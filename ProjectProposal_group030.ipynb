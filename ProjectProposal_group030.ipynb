{
 "cells": [
  {
   "cell_type": "markdown",
   "metadata": {},
   "source": [
    "# COGS 108 - Final Project Proposal"
   ]
  },
  {
   "cell_type": "markdown",
   "metadata": {},
   "source": [
    "# Names\n",
    "\n",
    "- Elias Arghand\n",
    "- Elias Fang\n",
    "- Norman Ta\n",
    "- Wesley Wang\n",
    "- Vivian Wu"
   ]
  },
  {
   "cell_type": "markdown",
   "metadata": {},
   "source": [
    "# Group Members IDs\n",
    "\n",
    "- A16129191\n",
    "- A16135628\n",
    "- A15820295\n",
    "- A16124357\n",
    "- A15826709"
   ]
  },
  {
   "cell_type": "markdown",
   "metadata": {},
   "source": [
    "# Research Question"
   ]
  },
  {
   "cell_type": "markdown",
   "metadata": {},
   "source": [
    "Does the partisan bias of TikTok posts correlate with a similar partisan bias in the voting tendencies of the younger generation? If so, does TikTok and its dominance in the younger generation influence their voting habits (political activism)?"
   ]
  },
  {
   "cell_type": "markdown",
   "metadata": {},
   "source": [
    "## Background and Prior Work"
   ]
  },
  {
   "cell_type": "markdown",
   "metadata": {},
   "source": [
    "&nbsp;&nbsp;&nbsp;&nbsp;&nbsp;&nbsp;In today's society, people's beliefs and behaviors are generally influenced by social media. Social media is set up in a way that allows users to stay connected with \"friends\" and \"followers\", as well as suggest relevant content that the users would be interested in. TikTok has been observed to be the most popular among younger demographics and its recent boost in popularity suggests that it must also have some sort of impact as a social media platform. Given the current events surrounding the 2020 Presidential Election, we wanted to research the relationship between partisan bias in the election and TikTok videos featured on users' \"For You\" page. We have also seen the President take action in an attempt to ban TikTok due to its affiliation with China, so we are curious how this has had an affect as well. \n",
    "\n",
    "&nbsp;&nbsp;&nbsp;&nbsp;&nbsp;&nbsp;We know that TikTok, being a relatively new platform, has a larger demographic among younger age groups. Additionally, from our own experience with TikTok, we have seen a general rise in politically-oriented videos that are meant for both entertainment and education due to the recent election. This information is important to understand how social media, and the rise of TikTok specifically, can influence the political beliefs and behaviors of users. According to articles we researched relating to TikTok's influence specifically, we see that political activism has, in fact, increased among its demographic, namely teenagers and young adults.\n",
    "\n",
    "References (include links):\n",
    "- 1) Tik Tok age demographic https://www.businessofapps.com/data/tik-tok-statistics/#:~:text=TikTok%20demographics,and%2025%2D34%20year%20olds \n",
    "- 2) Activism on TikTok using hashtags https://thenextweb.com/syndication/2020/08/07/how-tiktok-teens-amplified-political-activism-and-threatened-trumps-political-campaign/ \n",
    "- 3) 2020 Election Forecasts https://github.com/fivethirtyeight/data/tree/master/election-forecasts-2020 \n",
    "- 4) Trump approval ratings https://github.com/fivethirtyeight/data/tree/master/election-forecasts-2020 "
   ]
  },
  {
   "cell_type": "markdown",
   "metadata": {},
   "source": [
    "# Hypothesis\n"
   ]
  },
  {
   "cell_type": "markdown",
   "metadata": {},
   "source": [
    "*The new generation of voters is one of the first to be exposed to the rising influence of social media, so the partisan tendencies of TikTok posts should correlate with the voting tendencies of the demographic as a whole as well. Scraping hashtags, sounds, likes, views, and comments would be our metric for popularity and approval of TikTok topics.*"
   ]
  },
  {
   "cell_type": "markdown",
   "metadata": {},
   "source": [
    "# Data"
   ]
  },
  {
   "cell_type": "markdown",
   "metadata": {},
   "source": [
    "&nbsp;&nbsp;&nbsp;&nbsp;&nbsp;&nbsp;For data, we plan to use TikTok scrapers from GitHub and TikTok API to receive data from the descriptions of specific TikToks that are relevant to the current political climate. Along with that, we plan to use publicly available datasets to monitor the 2020 Election Forecast and Donald Trump approval ratings. The variables we will be considering are trending videos and the hashtags that are associated with it, the number of comments and sentiment of words inside the comments, number of likes, hashtags, duets, views and like to view ratio for specific politically associated TikToks. These variables are to be connected with the overall approval ratings of Donald Trump and the expected voting average for each presidential candidate. The TikTok data using the TikTok scrapers from GitHub and the Election and presidential approval rating data would need to be organized to follow the tidy data format. For observations, we would connect the rise in popularity of political TikToks along with the change of the election forecast. "
   ]
  },
  {
   "cell_type": "markdown",
   "metadata": {},
   "source": [
    "# Ethics & Privacy"
   ]
  },
  {
   "cell_type": "markdown",
   "metadata": {},
   "source": [
    "&nbsp;&nbsp;&nbsp;&nbsp;&nbsp;&nbsp;We plan to use TikTok for Developers, which is a public API and free to use. We also plan to use scrapers found on Github, which is free to use and public. There should not be any privacy concerns regarding our datasets as we plan to follow Tiktok’s privacy policy regarding the information we use as stated in https://www.tiktok.com/legal/privacy-policy?lang=en. Regarding data we collect online, there should not be any privacy concerns as the resources we gather are public sources. \n",
    "\n",
    "&nbsp;&nbsp;&nbsp;&nbsp;&nbsp;&nbsp;Regarding potential biases, since there is no way to eliminate all biases in our datasets, the potential biases include the sources itself from which we gather our information. Those sources themselves could be biased and lean towards one political identity. We believe that although this is unavoidable, it will not deem problematic as we would be gathering data pertaining that is inclusive of political identities. Another bias could be that using views, comments, likes, hashtags, etc would not be a good metric of the actual popularity and approval of the TikTok. Another possible bias could be that tiktok reflects the voting biases of the generation rather than shaping it. I don’t think there is a way to tell if TikTok shapes voting tendencies of the younger demographic or if the younger demographic’s voting tendencies shapes TikTok. We will handle issues that we’ve identified on potential biases by using specific metrics that reflect the actual popularity of TikTok and its relationship to partisan bias."
   ]
  },
  {
   "cell_type": "markdown",
   "metadata": {},
   "source": [
    "# Team Expectations "
   ]
  },
  {
   "cell_type": "markdown",
   "metadata": {},
   "source": [
    "* Be respectful: Every idea is worth considering!\n",
    "* Be responsible: Complete tasks on time and to the best of your ability. Communicate openly if you are not able to complete a task and ask for help when needed.\n",
    "* Be willing to help: Sometimes, one person might have trouble completing tasks due to time or experience. Be willing to lend a hand and assist wherever help is needed.\n",
    "* Be flexible: Always be open to learning something new. Understand that things may come up that could obstruct our progress. \"Improvise. Adapt. Overcome.\"\n",
    "* HAvE fUn! 😆 "
   ]
  },
  {
   "cell_type": "markdown",
   "metadata": {},
   "source": [
    "# Project Timeline Proposal"
   ]
  },
  {
   "cell_type": "markdown",
   "metadata": {},
   "source": [
    "| Meeting Date  | Meeting Time| Completed Before Meeting  | Discuss at Meeting |\n",
    "|---|---|---|---|\n",
    "| 10/12  |  1 PM | Read & Think about COGS 108 expectations; brainstorm topics/questions  | Determine best form of communication; Discuss and decide on final project topic; discuss hypothesis; begin background research | \n",
    "| 10/18  |  6 PM |  Do background research on topic | Discuss ideal dataset(s) and ethics; draft project proposal | \n",
    "| 10/22  | 6 PM  | Edit, finalize, and submit proposal; Search for datasets  | Discuss Wrangling and possible analytical approaches; Assign group members to lead each specific part   |\n",
    "| 11/04  | 6 PM  | Start scraping data (Elias A); Tidy Data (Norman) | Review/Edit data scraped; Discuss Analysis Plan   |\n",
    "| 11/18  | 6 PM  | Finalize Scraping; Begin Analysis (Elias F; Vivian) | Discuss/edit Analysis; Complete project check-in |\n",
    "| 12/02  | 6 PM  | Complete analysis; Draft results/conclusion/discussion (Wesley)| Discuss/edit full project |\n",
    "| 12/16  | Before 11:59 PM  | NA | Turn in Final Project & Group Project Surveys |"
   ]
  }
 ],
 "metadata": {
  "kernelspec": {
   "display_name": "Python 3",
   "language": "python",
   "name": "python3"
  },
  "language_info": {
   "codemirror_mode": {
    "name": "ipython",
    "version": 3
   },
   "file_extension": ".py",
   "mimetype": "text/x-python",
   "name": "python",
   "nbconvert_exporter": "python",
   "pygments_lexer": "ipython3",
   "version": "3.7.6"
  }
 },
 "nbformat": 4,
 "nbformat_minor": 2
}
